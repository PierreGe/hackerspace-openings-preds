{
 "cells": [
  {
   "cell_type": "markdown",
   "metadata": {},
   "source": [
    "By C4"
   ]
  },
  {
   "cell_type": "code",
   "execution_count": 1,
   "metadata": {},
   "outputs": [
    {
     "name": "stdout",
     "output_type": "stream",
     "text": [
      "Populating the interactive namespace from numpy and matplotlib\n"
     ]
    }
   ],
   "source": [
    "%pylab inline\n",
    "import pandas as pd\n",
    "import workalendar.europe.belgium as belgium"
   ]
  },
  {
   "cell_type": "code",
   "execution_count": 2,
   "metadata": {
    "collapsed": true
   },
   "outputs": [],
   "source": [
    "raw_data = pd.read_csv(\"data/dataraw.csv\", parse_dates=[\"time\"])"
   ]
  },
  {
   "cell_type": "code",
   "execution_count": 3,
   "metadata": {},
   "outputs": [
    {
     "data": {
      "text/html": [
       "<div>\n",
       "<style>\n",
       "    .dataframe thead tr:only-child th {\n",
       "        text-align: right;\n",
       "    }\n",
       "\n",
       "    .dataframe thead th {\n",
       "        text-align: left;\n",
       "    }\n",
       "\n",
       "    .dataframe tbody tr th {\n",
       "        vertical-align: top;\n",
       "    }\n",
       "</style>\n",
       "<table border=\"1\" class=\"dataframe\">\n",
       "  <thead>\n",
       "    <tr style=\"text-align: right;\">\n",
       "      <th></th>\n",
       "      <th>time</th>\n",
       "      <th>is_open</th>\n",
       "      <th>date</th>\n",
       "    </tr>\n",
       "  </thead>\n",
       "  <tbody>\n",
       "    <tr>\n",
       "      <th>28586</th>\n",
       "      <td>2016-03-12 16:00:00</td>\n",
       "      <td>True</td>\n",
       "      <td>2016-03-12</td>\n",
       "    </tr>\n",
       "    <tr>\n",
       "      <th>4119</th>\n",
       "      <td>2013-05-28 05:00:00</td>\n",
       "      <td>False</td>\n",
       "      <td>2013-05-28</td>\n",
       "    </tr>\n",
       "    <tr>\n",
       "      <th>35988</th>\n",
       "      <td>2017-01-15 02:00:00</td>\n",
       "      <td>False</td>\n",
       "      <td>2017-01-15</td>\n",
       "    </tr>\n",
       "    <tr>\n",
       "      <th>32784</th>\n",
       "      <td>2016-09-03 14:00:00</td>\n",
       "      <td>False</td>\n",
       "      <td>2016-09-03</td>\n",
       "    </tr>\n",
       "    <tr>\n",
       "      <th>25379</th>\n",
       "      <td>2015-10-31 01:00:00</td>\n",
       "      <td>False</td>\n",
       "      <td>2015-10-31</td>\n",
       "    </tr>\n",
       "    <tr>\n",
       "      <th>22130</th>\n",
       "      <td>2015-06-17 16:00:00</td>\n",
       "      <td>False</td>\n",
       "      <td>2015-06-17</td>\n",
       "    </tr>\n",
       "    <tr>\n",
       "      <th>27345</th>\n",
       "      <td>2016-01-20 23:00:00</td>\n",
       "      <td>False</td>\n",
       "      <td>2016-01-20</td>\n",
       "    </tr>\n",
       "    <tr>\n",
       "      <th>12076</th>\n",
       "      <td>2014-04-24 18:00:00</td>\n",
       "      <td>False</td>\n",
       "      <td>2014-04-24</td>\n",
       "    </tr>\n",
       "    <tr>\n",
       "      <th>22998</th>\n",
       "      <td>2015-07-23 20:00:00</td>\n",
       "      <td>False</td>\n",
       "      <td>2015-07-23</td>\n",
       "    </tr>\n",
       "    <tr>\n",
       "      <th>31084</th>\n",
       "      <td>2016-06-24 18:00:00</td>\n",
       "      <td>False</td>\n",
       "      <td>2016-06-24</td>\n",
       "    </tr>\n",
       "  </tbody>\n",
       "</table>\n",
       "</div>"
      ],
      "text/plain": [
       "                     time  is_open        date\n",
       "28586 2016-03-12 16:00:00     True  2016-03-12\n",
       "4119  2013-05-28 05:00:00    False  2013-05-28\n",
       "35988 2017-01-15 02:00:00    False  2017-01-15\n",
       "32784 2016-09-03 14:00:00    False  2016-09-03\n",
       "25379 2015-10-31 01:00:00    False  2015-10-31\n",
       "22130 2015-06-17 16:00:00    False  2015-06-17\n",
       "27345 2016-01-20 23:00:00    False  2016-01-20\n",
       "12076 2014-04-24 18:00:00    False  2014-04-24\n",
       "22998 2015-07-23 20:00:00    False  2015-07-23\n",
       "31084 2016-06-24 18:00:00    False  2016-06-24"
      ]
     },
     "execution_count": 3,
     "metadata": {},
     "output_type": "execute_result"
    }
   ],
   "source": [
    "cleaned_data = raw_data[[\"time\", \"is_open\"]].copy()\n",
    "cleaned_data.loc[cleaned_data.time.dt.hour >= 23, \"is_open\"] = False\n",
    "cleaned_data.loc[cleaned_data.time.dt.hour < 7, \"is_open\"] = False\n",
    "cleaned_data[\"date\"] = cleaned_data.time.dt.date\n",
    "\n",
    "cleaned_data.sample(10)"
   ]
  },
  {
   "cell_type": "code",
   "execution_count": 4,
   "metadata": {},
   "outputs": [
    {
     "data": {
      "text/plain": [
       "479     2014-03-31\n",
       "476     2014-03-28\n",
       "130     2013-04-16\n",
       "894     2015-05-20\n",
       "1142    2016-01-23\n",
       "579     2014-07-09\n",
       "559     2014-06-19\n",
       "35      2013-01-11\n",
       "1483    2016-12-29\n",
       "480     2014-04-01\n",
       "Name: day, dtype: object"
      ]
     },
     "execution_count": 4,
     "metadata": {},
     "output_type": "execute_result"
    }
   ],
   "source": [
    "data_dates = pd.Series(cleaned_data[\"date\"].unique(), name=\"day\")\n",
    "data_dates.sample(10)"
   ]
  },
  {
   "cell_type": "code",
   "execution_count": 5,
   "metadata": {
    "collapsed": true
   },
   "outputs": [],
   "source": [
    "starting_days = [\n",
    "    datetime.date(2009, 9, 14),\n",
    "    datetime.date(2010, 9, 20),\n",
    "    datetime.date(2011, 9, 19),\n",
    "    datetime.date(2012, 9, 17),\n",
    "    datetime.date(2013, 9, 16),\n",
    "    datetime.date(2014, 9, 15),\n",
    "    datetime.date(2015, 9, 14),\n",
    "    datetime.date(2016, 9, 19),\n",
    "    datetime.date(2017, 9, 18),\n",
    "]\n",
    "\n",
    "assert all([d.weekday() == 0 for d in starting_days])"
   ]
  },
  {
   "cell_type": "code",
   "execution_count": 6,
   "metadata": {
    "collapsed": true
   },
   "outputs": [],
   "source": [
    "def get_week_no(date):\n",
    "    possible = [d for d in starting_days if d <= date]\n",
    "    aca_start = possible[-1]\n",
    "    dt = date - aca_start\n",
    "    return math.floor(timedelta64(dt) / timedelta64(1,'W'))\n",
    "\n",
    "week_df = data_dates.to_frame()\n",
    "week_df[\"week_no\"] = week_df[\"day\"].apply(get_week_no)\n",
    "week_df[\"day\"] = pd.to_datetime(week_df[\"day\"])\n",
    "\n",
    "#week_df[week_df.day.dt.date > datetime64(\"2013-09-10\")].head(15)"
   ]
  },
  {
   "cell_type": "code",
   "execution_count": 7,
   "metadata": {},
   "outputs": [
    {
     "data": {
      "text/html": [
       "<div>\n",
       "<style>\n",
       "    .dataframe thead tr:only-child th {\n",
       "        text-align: right;\n",
       "    }\n",
       "\n",
       "    .dataframe thead th {\n",
       "        text-align: left;\n",
       "    }\n",
       "\n",
       "    .dataframe tbody tr th {\n",
       "        vertical-align: top;\n",
       "    }\n",
       "</style>\n",
       "<table border=\"1\" class=\"dataframe\">\n",
       "  <thead>\n",
       "    <tr style=\"text-align: right;\">\n",
       "      <th></th>\n",
       "      <th>time</th>\n",
       "      <th>is_open</th>\n",
       "      <th>date</th>\n",
       "      <th>weekday</th>\n",
       "      <th>aca_week_no</th>\n",
       "      <th>week_no</th>\n",
       "      <th>year</th>\n",
       "      <th>month</th>\n",
       "      <th>day</th>\n",
       "      <th>hour</th>\n",
       "      <th>working</th>\n",
       "      <th>tampon</th>\n",
       "      <th>exams</th>\n",
       "      <th>vacances</th>\n",
       "    </tr>\n",
       "  </thead>\n",
       "  <tbody>\n",
       "    <tr>\n",
       "      <th>4318</th>\n",
       "      <td>2013-06-05 12:00:00</td>\n",
       "      <td>False</td>\n",
       "      <td>2013-06-05</td>\n",
       "      <td>2</td>\n",
       "      <td>37</td>\n",
       "      <td>23</td>\n",
       "      <td>2013</td>\n",
       "      <td>6</td>\n",
       "      <td>5</td>\n",
       "      <td>12</td>\n",
       "      <td>True</td>\n",
       "      <td>False</td>\n",
       "      <td>True</td>\n",
       "      <td>False</td>\n",
       "    </tr>\n",
       "    <tr>\n",
       "      <th>17937</th>\n",
       "      <td>2014-12-24 23:00:00</td>\n",
       "      <td>False</td>\n",
       "      <td>2014-12-24</td>\n",
       "      <td>2</td>\n",
       "      <td>14</td>\n",
       "      <td>52</td>\n",
       "      <td>2014</td>\n",
       "      <td>12</td>\n",
       "      <td>24</td>\n",
       "      <td>23</td>\n",
       "      <td>True</td>\n",
       "      <td>False</td>\n",
       "      <td>True</td>\n",
       "      <td>False</td>\n",
       "    </tr>\n",
       "    <tr>\n",
       "      <th>29435</th>\n",
       "      <td>2016-04-17 01:00:00</td>\n",
       "      <td>False</td>\n",
       "      <td>2016-04-17</td>\n",
       "      <td>6</td>\n",
       "      <td>30</td>\n",
       "      <td>15</td>\n",
       "      <td>2016</td>\n",
       "      <td>4</td>\n",
       "      <td>17</td>\n",
       "      <td>1</td>\n",
       "      <td>False</td>\n",
       "      <td>False</td>\n",
       "      <td>False</td>\n",
       "      <td>False</td>\n",
       "    </tr>\n",
       "    <tr>\n",
       "      <th>8608</th>\n",
       "      <td>2013-12-01 06:00:00</td>\n",
       "      <td>False</td>\n",
       "      <td>2013-12-01</td>\n",
       "      <td>6</td>\n",
       "      <td>10</td>\n",
       "      <td>48</td>\n",
       "      <td>2013</td>\n",
       "      <td>12</td>\n",
       "      <td>1</td>\n",
       "      <td>6</td>\n",
       "      <td>False</td>\n",
       "      <td>False</td>\n",
       "      <td>False</td>\n",
       "      <td>False</td>\n",
       "    </tr>\n",
       "    <tr>\n",
       "      <th>15086</th>\n",
       "      <td>2014-08-28 04:00:00</td>\n",
       "      <td>False</td>\n",
       "      <td>2014-08-28</td>\n",
       "      <td>3</td>\n",
       "      <td>49</td>\n",
       "      <td>35</td>\n",
       "      <td>2014</td>\n",
       "      <td>8</td>\n",
       "      <td>28</td>\n",
       "      <td>4</td>\n",
       "      <td>True</td>\n",
       "      <td>False</td>\n",
       "      <td>False</td>\n",
       "      <td>True</td>\n",
       "    </tr>\n",
       "  </tbody>\n",
       "</table>\n",
       "</div>"
      ],
      "text/plain": [
       "                     time  is_open        date  weekday  aca_week_no  week_no  \\\n",
       "4318  2013-06-05 12:00:00    False  2013-06-05        2           37       23   \n",
       "17937 2014-12-24 23:00:00    False  2014-12-24        2           14       52   \n",
       "29435 2016-04-17 01:00:00    False  2016-04-17        6           30       15   \n",
       "8608  2013-12-01 06:00:00    False  2013-12-01        6           10       48   \n",
       "15086 2014-08-28 04:00:00    False  2014-08-28        3           49       35   \n",
       "\n",
       "       year  month  day  hour  working  tampon  exams  vacances  \n",
       "4318   2013      6    5    12     True   False   True     False  \n",
       "17937  2014     12   24    23     True   False   True     False  \n",
       "29435  2016      4   17     1    False   False  False     False  \n",
       "8608   2013     12    1     6    False   False  False     False  \n",
       "15086  2014      8   28     4     True   False  False      True  "
      ]
     },
     "execution_count": 7,
     "metadata": {},
     "output_type": "execute_result"
    }
   ],
   "source": [
    "featurized = cleaned_data.copy()\n",
    "\n",
    "# day of the week\n",
    "featurized[\"weekday\"] = featurized[\"time\"].dt.weekday\n",
    "\n",
    "# academic week number\n",
    "featurized[\"aca_week_no\"] = featurized[\"date\"].apply(get_week_no)\n",
    "\n",
    "# civil week number\n",
    "featurized[\"week_no\"] = featurized[\"time\"].dt.week\n",
    "\n",
    "# date\n",
    "featurized[\"year\"] = featurized[\"time\"].dt.year\n",
    "featurized[\"month\"] = featurized[\"time\"].dt.month\n",
    "featurized[\"day\"] = featurized[\"time\"].dt.day\n",
    "featurized[\"hour\"] = featurized[\"time\"].dt.hour\n",
    "\n",
    "# holiday\n",
    "calendar = belgium.Belgium()\n",
    "featurized[\"working\"] = featurized[\"date\"].apply(calendar.is_working_day)\n",
    "### St V\n",
    "featurized.loc[(featurized[\"time\"].dt.month == 11) & (featurized[\"time\"].dt.day == 20), \"working\"] = False\n",
    "\n",
    "# tampon\n",
    "featurized[\"tampon\"] = False\n",
    "featurized.loc[featurized.aca_week_no.isin([6, 13, 26, 34]), \"tampon\"] = True\n",
    "\n",
    "# exams\n",
    "featurized[\"exams\"] = False\n",
    "featurized.loc[featurized.aca_week_no.isin([14, 15, 16, 17, 18]), \"exams\"] = True\n",
    "featurized.loc[featurized.aca_week_no.isin([36, 37, 38, 39, 40]), \"exams\"] = True\n",
    "\n",
    "# vacances\n",
    "featurized[\"vacances\"] = False\n",
    "featurized.loc[featurized.aca_week_no.isin([19] + list(range(41, 52))), \"vacances\"] = True\n",
    "\n",
    "# weather\n",
    "\n",
    "featurized.sort_values(\"time\")\n",
    "featurized.sample(5)"
   ]
  },
  {
   "cell_type": "code",
   "execution_count": 8,
   "metadata": {
    "collapsed": true
   },
   "outputs": [],
   "source": [
    "featurized.to_csv(\"data/data_featurized.csv\")"
   ]
  },
  {
   "cell_type": "code",
   "execution_count": null,
   "metadata": {
    "collapsed": true
   },
   "outputs": [],
   "source": []
  }
 ],
 "metadata": {
  "kernelspec": {
   "display_name": "Python 2",
   "language": "python",
   "name": "python2"
  },
  "language_info": {
   "codemirror_mode": {
    "name": "ipython",
    "version": 3
   },
   "file_extension": ".py",
   "mimetype": "text/x-python",
   "name": "python",
   "nbconvert_exporter": "python",
   "pygments_lexer": "ipython3",
   "version": "3.6.2"
  }
 },
 "nbformat": 4,
 "nbformat_minor": 2
}
